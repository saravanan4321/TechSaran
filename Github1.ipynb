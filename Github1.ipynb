{
 "cells": [
  {
   "cell_type": "code",
   "execution_count": null,
   "id": "d80e20ca-3777-4b48-8e46-6a689ed84b12",
   "metadata": {},
   "outputs": [],
   "source": [
    "# Reservation Ticket Status\n",
    "Ticket=input(\"You Already have BOOKED tickets or do u want to RESERVE:\")\n",
    "if(Ticket==\"Booked\"):\n",
    "    ID=input(\"Enter the ticket id:\")\n",
    "    print(\"Your Ticket is = \",ID)\n",
    "    print(\"Event Name is  = ARR Music Concert\")\n",
    "    print(\"Event date is  = 06.11.2023\")\n",
    "    print(\"Venue is       = ARC Ground, Chennai\")\n",
    "    print(\"Sear Number    = LR12\")\n",
    "    print(\"price          = Rs.500\")\n",
    "    Continue=input(\"Do u want to continue/cancel:\")\n",
    "    if(Continue==\"Continue\"):\n",
    "        print(\"Thanks & Enjoy the event\")\n",
    "    elif(Continue==\"Cancel\"):\n",
    "        print(\"Your Ticket has been cancelled\")\n",
    "elif(Ticket==\"Not Booked\"):\n",
    "    print(\"Will book the ticket for you\")\n"
   ]
  }
 ],
 "metadata": {
  "kernelspec": {
   "display_name": "Python 3 (ipykernel)",
   "language": "python",
   "name": "python3"
  },
  "language_info": {
   "codemirror_mode": {
    "name": "ipython",
    "version": 3
   },
   "file_extension": ".py",
   "mimetype": "text/x-python",
   "name": "python",
   "nbconvert_exporter": "python",
   "pygments_lexer": "ipython3",
   "version": "3.10.6"
  }
 },
 "nbformat": 4,
 "nbformat_minor": 5
}
